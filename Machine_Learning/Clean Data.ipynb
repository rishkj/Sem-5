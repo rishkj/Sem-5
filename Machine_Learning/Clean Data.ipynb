{
 "cells": [
  {
   "cell_type": "code",
   "execution_count": 56,
   "metadata": {},
   "outputs": [
    {
     "name": "stdout",
     "output_type": "stream",
     "text": [
      "1624\n",
      "1607\n",
      "      Age  Gender   TB   DB  Alkphos  Sgpt  Sgot   TP  ALB   A/G  Selector\n",
      "2149   60       1  3.2  1.8      750    79   145  7.8  3.2  0.69         0\n",
      "2587   65       1  4.9  2.7      190    33    71  7.1  2.9  0.70         0\n",
      "1800   74       0  0.9  0.3      234    16    19  7.9  4.0  1.00         0\n",
      "1719   50       1  0.7  0.2      206    18    17  8.4  4.2  1.00         1\n",
      "2847   60       1  0.6  0.1      186    20    21  6.2  3.3  1.10         1\n",
      "...   ...     ...  ...  ...      ...   ...   ...  ...  ...   ...       ...\n",
      "1009   45       1  2.4  1.1      168    33    50  5.1  2.6  1.00         0\n",
      "1248   22       1  2.7  1.0      160    82   127  5.5  3.1  1.20         1\n",
      "2419   21       1  0.7  0.2      211    14    23  7.3  4.1  1.20         1\n",
      "649    60       1  2.9  1.3      230    32    44  5.6  2.0  0.50         0\n",
      "726    22       1  0.9  0.3      179    18    21  6.7  3.7  1.20         1\n",
      "\n",
      "[3231 rows x 11 columns]\n"
     ]
    },
    {
     "name": "stderr",
     "output_type": "stream",
     "text": [
      "/usr/local/lib/python3.7/site-packages/ipykernel_launcher.py:26: SettingWithCopyWarning: \n",
      "A value is trying to be set on a copy of a slice from a DataFrame.\n",
      "Try using .loc[row_indexer,col_indexer] = value instead\n",
      "\n",
      "See the caveats in the documentation: http://pandas.pydata.org/pandas-docs/stable/user_guide/indexing.html#returning-a-view-versus-a-copy\n",
      "/usr/local/lib/python3.7/site-packages/ipykernel_launcher.py:32: SettingWithCopyWarning: \n",
      "A value is trying to be set on a copy of a slice from a DataFrame.\n",
      "Try using .loc[row_indexer,col_indexer] = value instead\n",
      "\n",
      "See the caveats in the documentation: http://pandas.pydata.org/pandas-docs/stable/user_guide/indexing.html#returning-a-view-versus-a-copy\n"
     ]
    }
   ],
   "source": [
    "import pandas as pd\n",
    "import numpy as np\n",
    "from scipy import stats\n",
    "\n",
    "# To read the csv file to get our data, with no column headings\n",
    "df = pd.read_csv('Indian Liver Patient Dataset (ILPD).csv',header = None)\n",
    "\n",
    "# To add column headings to the dataframe\n",
    "col = ['Age','Gender','TB','DB','Alkphos','Sgpt','Sgot','TP','ALB','A/G','Selector']\n",
    "df.columns = col\n",
    "\n",
    "# Changes values of gender column to integers 0 and 1\n",
    "df['Gender'] = df['Gender'].map({'Female': 0, 'Male': 1})\n",
    "\n",
    "# Changes selector values to 0 and 1\n",
    "df['Selector'] = df['Selector'].map({1: 0, 2: 1})\n",
    "\n",
    "# Seperating both classes\n",
    "df_0 = df.loc[df['Selector'] == 0]\n",
    "df_1 = df.loc[df['Selector'] == 1]\n",
    "\n",
    "#Filling null values with mean in class with selector 0\n",
    "for i in df_0.columns:\n",
    "    if df_0[i].isnull().values.any():\n",
    "        mean = df_0[i].mean()\n",
    "        df_0[i] = df_0[i].fillna(mean)\n",
    "        \n",
    "#Filling null values with mean in class with selector 1        \n",
    "for i in df_1.columns:\n",
    "    if df_1[i].isnull().values.any():\n",
    "        mean = df_1[i].mean()\n",
    "        df_1[i] = df_1[i].fillna(mean)\n",
    "        \n",
    "# Changing dataframe to dataframe with no null values        \n",
    "df = pd.concat([df_0,df_1], ignore_index=True)\n",
    "\n",
    "# Using z value to remove outliers\n",
    "z = np.abs(stats.zscore(df))\n",
    "df = df[(z < 2).all(axis=1)]\n",
    "\n",
    "\n",
    "df_0 = df.loc[df['Selector'] == 0]\n",
    "df_1 = df.loc[df['Selector'] == 1]\n",
    "\n",
    "# Increasing class size of selector 1 to create equally balanced dataset\n",
    "count = len(df_0)\n",
    "while(len(df_1) <= count - 20):\n",
    "    df2 = df_1.sample(n=60)\n",
    "    df_1 = pd.concat([df_1, df2], ignore_index=True)\n",
    "\n",
    "df = pd.concat([df_0,df_1], ignore_index=True)\n",
    "\n",
    "# Increasing size of dataset by 5 times\n",
    "count = len(df)\n",
    "while(len(df) <= count * 5):\n",
    "    df2 = df.sample(100)\n",
    "    df = pd.concat([df,df2], ignore_index=True)\n",
    "df_0 = df.loc[df['Selector'] == 0]\n",
    "df_1 = df.loc[df['Selector'] == 1]\n",
    "\n",
    "print(len(df_0))\n",
    "print(len(df_1))\n",
    "\n",
    "df = df.sample(frac=1)\n",
    "\n",
    "print(df)\n",
    "\n",
    "df.to_csv('ILPD.csv')"
   ]
  },
  {
   "cell_type": "code",
   "execution_count": null,
   "metadata": {},
   "outputs": [],
   "source": []
  }
 ],
 "metadata": {
  "kernelspec": {
   "display_name": "Python 3",
   "language": "python",
   "name": "python3"
  },
  "language_info": {
   "codemirror_mode": {
    "name": "ipython",
    "version": 3
   },
   "file_extension": ".py",
   "mimetype": "text/x-python",
   "name": "python",
   "nbconvert_exporter": "python",
   "pygments_lexer": "ipython3",
   "version": "3.7.3"
  }
 },
 "nbformat": 4,
 "nbformat_minor": 2
}
